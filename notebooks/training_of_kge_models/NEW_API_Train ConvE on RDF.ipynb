{
 "cells": [
  {
   "cell_type": "code",
   "execution_count": 12,
   "metadata": {},
   "outputs": [],
   "source": [
    "import logging\n",
    "import os\n",
    "import sys\n",
    "import time\n",
    "\n",
    "import numpy as np\n",
    "import matplotlib.pyplot as plt\n",
    "import pykeen\n",
    "from pykeen.kge_models import ConvE\n",
    "import os\n",
    "os.environ[\"CUDA_VISIBLE_DEVICES\"]='0'"
   ]
  },
  {
   "cell_type": "code",
   "execution_count": 13,
   "metadata": {},
   "outputs": [],
   "source": [
    "%matplotlib inline"
   ]
  },
  {
   "cell_type": "code",
   "execution_count": 14,
   "metadata": {},
   "outputs": [],
   "source": [
    "logging.basicConfig(level=logging.INFO)\n",
    "logging.getLogger('pykeen').setLevel(logging.INFO)"
   ]
  },
  {
   "cell_type": "markdown",
   "metadata": {},
   "source": [
    "print(sys.version)"
   ]
  },
  {
   "cell_type": "code",
   "execution_count": 15,
   "metadata": {},
   "outputs": [
    {
     "name": "stdout",
     "output_type": "stream",
     "text": [
      "Fri May 24 10:52:23 2019\n"
     ]
    }
   ],
   "source": [
    "print(time.asctime())"
   ]
  },
  {
   "cell_type": "code",
   "execution_count": 16,
   "metadata": {},
   "outputs": [
    {
     "name": "stdout",
     "output_type": "stream",
     "text": [
      "0.0.26-dev\n"
     ]
    }
   ],
   "source": [
    "print(pykeen.get_version())"
   ]
  },
  {
   "cell_type": "markdown",
   "metadata": {},
   "source": [
    "Check which hyper-parameters are required by ConvE:"
   ]
  },
  {
   "cell_type": "code",
   "execution_count": 17,
   "metadata": {},
   "outputs": [
    {
     "data": {
      "text/plain": [
       "['embedding_dim',\n",
       " 'ConvE_input_channels',\n",
       " 'ConvE_output_channels',\n",
       " 'ConvE_height',\n",
       " 'ConvE_width',\n",
       " 'ConvE_kernel_height',\n",
       " 'ConvE_kernel_width',\n",
       " 'conv_e_input_dropout',\n",
       " 'conv_e_feature_map_dropout',\n",
       " 'conv_e_output_dropout',\n",
       " 'margin_loss',\n",
       " 'learning_rate']"
      ]
     },
     "execution_count": 17,
     "metadata": {},
     "output_type": "execute_result"
    }
   ],
   "source": [
    "ConvE.hyper_params"
   ]
  },
  {
   "cell_type": "markdown",
   "metadata": {},
   "source": [
    "Define output directory:"
   ]
  },
  {
   "cell_type": "code",
   "execution_count": 18,
   "metadata": {},
   "outputs": [],
   "source": [
    "output_directory = os.path.join(\n",
    "    os.path.expanduser('~'), \n",
    "    'Desktop', \n",
    "    'pykeen_test'\n",
    ")"
   ]
  },
  {
   "cell_type": "markdown",
   "metadata": {},
   "source": [
    "Define hyper-parameters:"
   ]
  },
  {
   "cell_type": "markdown",
   "metadata": {},
   "source": [
    "Note: ConvE_height * ConvE_width == embedding_dim"
   ]
  },
  {
   "cell_type": "markdown",
   "metadata": {},
   "source": [
    "Note: ConvE_kernel_height <= ConvE_height"
   ]
  },
  {
   "cell_type": "markdown",
   "metadata": {},
   "source": [
    "Note: ConvE_kernel_width <= ConvE_width"
   ]
  },
  {
   "cell_type": "markdown",
   "metadata": {},
   "source": [
    "Train ConvE:"
   ]
  },
  {
   "cell_type": "code",
   "execution_count": 19,
   "metadata": {},
   "outputs": [],
   "source": [
    "# For the new model\n",
    "config = dict(\n",
    "#     random_seed                 = 22,\n",
    "    embedding_dim               = 200,\n",
    "    ConvE_input_channels        = 1,  \n",
    "    ConvE_output_channels       = 32,  \n",
    "    ConvE_height                = 10,\n",
    "    ConvE_width                 = 20,\n",
    "    ConvE_kernel_height         = 3,\n",
    "    ConvE_kernel_width          = 3,\n",
    "    conv_e_input_dropout        = 0.2,\n",
    "    conv_e_feature_map_dropout  = 0.2,\n",
    "    conv_e_output_dropout       = 0.3,\n",
    "    margin_loss                 = 1,\n",
    "    preferred_device            = 'gpu',\n",
    ")"
   ]
  },
  {
   "cell_type": "code",
   "execution_count": 20,
   "metadata": {},
   "outputs": [],
   "source": [
    "model = ConvE(**config)"
   ]
  },
  {
   "cell_type": "code",
   "execution_count": 26,
   "metadata": {},
   "outputs": [],
   "source": [
    "# train_triples = model.load_triples_from_path('../../tests/resources/data/rdf.nt')\n",
    "train_triples, valid_triples, test_triples = model.load_triples_from_path(['fb15k_train.tsv', 'fb15k_valid.tsv', 'fb15k_test.tsv'])"
   ]
  },
  {
   "cell_type": "code",
   "execution_count": 22,
   "metadata": {},
   "outputs": [],
   "source": [
    "from pykeen.kge_models.base import load_data"
   ]
  },
  {
   "cell_type": "code",
   "execution_count": 23,
   "metadata": {},
   "outputs": [],
   "source": [
    "triples = load_data('fb15k_train.tsv')"
   ]
  },
  {
   "cell_type": "code",
   "execution_count": 24,
   "metadata": {},
   "outputs": [],
   "source": [
    "triples_short = triples[:10000]"
   ]
  },
  {
   "cell_type": "code",
   "execution_count": 25,
   "metadata": {},
   "outputs": [],
   "source": [
    "train_triples = test_triples = model.load_triples(triples_short)"
   ]
  },
  {
   "cell_type": "code",
   "execution_count": 159,
   "metadata": {},
   "outputs": [
    {
     "data": {
      "text/plain": [
       "ConvE(\n",
       "  (criterion): MarginRankingLoss()\n",
       "  (inp_drop): Dropout(p=0.2)\n",
       "  (hidden_drop): Dropout(p=0.3)\n",
       "  (feature_map_drop): Dropout2d(p=0.2)\n",
       "  (loss): BCEWithLogitsLoss()\n",
       "  (conv1): Conv2d(1, 32, kernel_size=(3, 3), stride=(1, 1))\n",
       "  (bn0): BatchNorm2d(1, eps=1e-05, momentum=0.1, affine=True, track_running_stats=True)\n",
       "  (bn1): BatchNorm2d(32, eps=1e-05, momentum=0.1, affine=True, track_running_stats=True)\n",
       "  (bn2): BatchNorm1d(200, eps=1e-05, momentum=0.1, affine=True, track_running_stats=True)\n",
       "  (fc): Linear(in_features=10368, out_features=200, bias=True)\n",
       ")"
      ]
     },
     "execution_count": 159,
     "metadata": {},
     "output_type": "execute_result"
    }
   ],
   "source": [
    "model.train()"
   ]
  },
  {
   "cell_type": "code",
   "execution_count": null,
   "metadata": {},
   "outputs": [
    {
     "name": "stderr",
     "output_type": "stream",
     "text": [
      "INFO:pykeen.kge_models.base:****Run Model On CUDA****\n",
      "Training epoch:   1%|▏         | 4/300 [01:53<2:19:29, 28.28s/it]"
     ]
    }
   ],
   "source": [
    "losses = model.fit(train_triples, learning_rate=0.003, num_epochs=300, batch_size=128)"
   ]
  },
  {
   "cell_type": "markdown",
   "metadata": {},
   "source": [
    "Access trained model:"
   ]
  },
  {
   "cell_type": "code",
   "execution_count": null,
   "metadata": {},
   "outputs": [],
   "source": [
    "model"
   ]
  },
  {
   "cell_type": "markdown",
   "metadata": {},
   "source": [
    "Visualize loss values:"
   ]
  },
  {
   "cell_type": "code",
   "execution_count": 11,
   "metadata": {},
   "outputs": [
    {
     "ename": "NameError",
     "evalue": "name 'losses' is not defined",
     "output_type": "error",
     "traceback": [
      "\u001b[0;31m---------------------------------------------------------------------------\u001b[0m",
      "\u001b[0;31mNameError\u001b[0m                                 Traceback (most recent call last)",
      "\u001b[0;32m<ipython-input-11-8fe2df4ab22b>\u001b[0m in \u001b[0;36m<module>\u001b[0;34m\u001b[0m\n\u001b[0;32m----> 1\u001b[0;31m \u001b[0mepochs\u001b[0m \u001b[0;34m=\u001b[0m \u001b[0mnp\u001b[0m\u001b[0;34m.\u001b[0m\u001b[0marange\u001b[0m\u001b[0;34m(\u001b[0m\u001b[0mlen\u001b[0m\u001b[0;34m(\u001b[0m\u001b[0mlosses\u001b[0m\u001b[0;34m)\u001b[0m\u001b[0;34m)\u001b[0m\u001b[0;34m\u001b[0m\u001b[0;34m\u001b[0m\u001b[0m\n\u001b[0m\u001b[1;32m      2\u001b[0m \u001b[0mplt\u001b[0m\u001b[0;34m.\u001b[0m\u001b[0mtitle\u001b[0m\u001b[0;34m(\u001b[0m\u001b[0;34mr'Loss Per Epoch'\u001b[0m\u001b[0;34m)\u001b[0m\u001b[0;34m\u001b[0m\u001b[0;34m\u001b[0m\u001b[0m\n\u001b[1;32m      3\u001b[0m \u001b[0mplt\u001b[0m\u001b[0;34m.\u001b[0m\u001b[0mxlabel\u001b[0m\u001b[0;34m(\u001b[0m\u001b[0;34m'epoch'\u001b[0m\u001b[0;34m)\u001b[0m\u001b[0;34m\u001b[0m\u001b[0;34m\u001b[0m\u001b[0m\n\u001b[1;32m      4\u001b[0m \u001b[0mplt\u001b[0m\u001b[0;34m.\u001b[0m\u001b[0mylabel\u001b[0m\u001b[0;34m(\u001b[0m\u001b[0;34m'loss'\u001b[0m\u001b[0;34m)\u001b[0m\u001b[0;34m\u001b[0m\u001b[0;34m\u001b[0m\u001b[0m\n\u001b[1;32m      5\u001b[0m \u001b[0mplt\u001b[0m\u001b[0;34m.\u001b[0m\u001b[0mplot\u001b[0m\u001b[0;34m(\u001b[0m\u001b[0mepochs\u001b[0m\u001b[0;34m,\u001b[0m \u001b[0mlosses\u001b[0m\u001b[0;34m)\u001b[0m\u001b[0;34m\u001b[0m\u001b[0;34m\u001b[0m\u001b[0m\n",
      "\u001b[0;31mNameError\u001b[0m: name 'losses' is not defined"
     ]
    }
   ],
   "source": [
    "epochs = np.arange(len(losses))\n",
    "plt.title(r'Loss Per Epoch')\n",
    "plt.xlabel('epoch')\n",
    "plt.ylabel('loss')\n",
    "plt.plot(epochs, losses)\n",
    "plt.show()"
   ]
  },
  {
   "cell_type": "markdown",
   "metadata": {},
   "source": [
    "Move model to cpu"
   ]
  },
  {
   "cell_type": "code",
   "execution_count": null,
   "metadata": {},
   "outputs": [],
   "source": [
    "model.eval()"
   ]
  },
  {
   "cell_type": "markdown",
   "metadata": {},
   "source": [
    "Load test triples"
   ]
  },
  {
   "cell_type": "code",
   "execution_count": 46,
   "metadata": {},
   "outputs": [
    {
     "ename": "TypeError",
     "evalue": "int() argument must be a string, a bytes-like object or a number, not 'NoneType'",
     "output_type": "error",
     "traceback": [
      "\u001b[0;31m---------------------------------------------------------------------------\u001b[0m",
      "\u001b[0;31mTypeError\u001b[0m                                 Traceback (most recent call last)",
      "\u001b[0;32m<ipython-input-46-fe378d4a72e1>\u001b[0m in \u001b[0;36m<module>\u001b[0;34m\u001b[0m\n\u001b[0;32m----> 1\u001b[0;31m \u001b[0mtest_triples\u001b[0m \u001b[0;34m=\u001b[0m \u001b[0mmodel\u001b[0m\u001b[0;34m.\u001b[0m\u001b[0mmap_triples_from_path\u001b[0m\u001b[0;34m(\u001b[0m\u001b[0;34m'../../tests/resources/data/rdf.nt'\u001b[0m\u001b[0;34m)\u001b[0m\u001b[0;34m\u001b[0m\u001b[0;34m\u001b[0m\u001b[0m\n\u001b[0m\u001b[1;32m      2\u001b[0m \u001b[0;31m# test_triples = model.map_triples_from_path('fb15k_test.tsv')\u001b[0m\u001b[0;34m\u001b[0m\u001b[0;34m\u001b[0m\u001b[0;34m\u001b[0m\u001b[0m\n",
      "\u001b[0;32m~/dataintegration/PyKEEN/src/pykeen/kge_models/base.py\u001b[0m in \u001b[0;36mmap_triples_from_path\u001b[0;34m(self, data_paths)\u001b[0m\n\u001b[1;32m    179\u001b[0m         \u001b[0;32mif\u001b[0m \u001b[0misinstance\u001b[0m\u001b[0;34m(\u001b[0m\u001b[0mdata_paths\u001b[0m\u001b[0;34m,\u001b[0m \u001b[0mstr\u001b[0m\u001b[0;34m)\u001b[0m\u001b[0;34m:\u001b[0m\u001b[0;34m\u001b[0m\u001b[0;34m\u001b[0m\u001b[0m\n\u001b[1;32m    180\u001b[0m             \u001b[0mtriples\u001b[0m \u001b[0;34m=\u001b[0m \u001b[0mload_data\u001b[0m\u001b[0;34m(\u001b[0m\u001b[0mdata_paths\u001b[0m\u001b[0;34m)\u001b[0m\u001b[0;34m\u001b[0m\u001b[0;34m\u001b[0m\u001b[0m\n\u001b[0;32m--> 181\u001b[0;31m             \u001b[0mmapped_triples\u001b[0m \u001b[0;34m=\u001b[0m \u001b[0mself\u001b[0m\u001b[0;34m.\u001b[0m\u001b[0mmap_triples\u001b[0m\u001b[0;34m(\u001b[0m\u001b[0mtriples\u001b[0m\u001b[0;34m)\u001b[0m\u001b[0;34m\u001b[0m\u001b[0;34m\u001b[0m\u001b[0m\n\u001b[0m\u001b[1;32m    182\u001b[0m         \u001b[0;32melse\u001b[0m\u001b[0;34m:\u001b[0m\u001b[0;34m\u001b[0m\u001b[0;34m\u001b[0m\u001b[0m\n\u001b[1;32m    183\u001b[0m             \u001b[0mtriples_list\u001b[0m \u001b[0;34m=\u001b[0m \u001b[0;34m[\u001b[0m\u001b[0mload_data\u001b[0m\u001b[0;34m(\u001b[0m\u001b[0mdata_path\u001b[0m\u001b[0;34m)\u001b[0m \u001b[0;32mfor\u001b[0m \u001b[0mdata_path\u001b[0m \u001b[0;32min\u001b[0m \u001b[0mdata_paths\u001b[0m\u001b[0;34m]\u001b[0m\u001b[0;34m\u001b[0m\u001b[0;34m\u001b[0m\u001b[0m\n",
      "\u001b[0;32m~/dataintegration/PyKEEN/src/pykeen/kge_models/base.py\u001b[0m in \u001b[0;36mmap_triples\u001b[0;34m(self, triples_in)\u001b[0m\n\u001b[1;32m    198\u001b[0m                 \u001b[0mtriples\u001b[0m\u001b[0;34m=\u001b[0m\u001b[0mtriples_in\u001b[0m\u001b[0;34m,\u001b[0m\u001b[0;34m\u001b[0m\u001b[0;34m\u001b[0m\u001b[0m\n\u001b[1;32m    199\u001b[0m                 \u001b[0mentity_label_to_id\u001b[0m\u001b[0;34m=\u001b[0m\u001b[0mself\u001b[0m\u001b[0;34m.\u001b[0m\u001b[0mentity_label_to_id\u001b[0m\u001b[0;34m,\u001b[0m\u001b[0;34m\u001b[0m\u001b[0;34m\u001b[0m\u001b[0m\n\u001b[0;32m--> 200\u001b[0;31m                 \u001b[0mrelation_label_to_id\u001b[0m\u001b[0;34m=\u001b[0m\u001b[0mself\u001b[0m\u001b[0;34m.\u001b[0m\u001b[0mrelation_label_to_id\u001b[0m\u001b[0;34m\u001b[0m\u001b[0;34m\u001b[0m\u001b[0m\n\u001b[0m\u001b[1;32m    201\u001b[0m             )\n\u001b[1;32m    202\u001b[0m         \u001b[0;32melse\u001b[0m\u001b[0;34m:\u001b[0m\u001b[0;34m\u001b[0m\u001b[0;34m\u001b[0m\u001b[0m\n",
      "\u001b[0;32m~/dataintegration/PyKEEN/src/pykeen/utilities/triples_creation_utils/instance_creation_utils.py\u001b[0m in \u001b[0;36mcreate_mapped_triples\u001b[0;34m(triples, entity_label_to_id, relation_label_to_id)\u001b[0m\n\u001b[1;32m     30\u001b[0m     \u001b[0mtriples_of_ids\u001b[0m \u001b[0;34m=\u001b[0m \u001b[0mnp\u001b[0m\u001b[0;34m.\u001b[0m\u001b[0mconcatenate\u001b[0m\u001b[0;34m(\u001b[0m\u001b[0;34m[\u001b[0m\u001b[0msubject_column\u001b[0m\u001b[0;34m,\u001b[0m \u001b[0mrelation_column\u001b[0m\u001b[0;34m,\u001b[0m \u001b[0mobject_column\u001b[0m\u001b[0;34m]\u001b[0m\u001b[0;34m,\u001b[0m \u001b[0maxis\u001b[0m\u001b[0;34m=\u001b[0m\u001b[0;36m1\u001b[0m\u001b[0;34m)\u001b[0m\u001b[0;34m\u001b[0m\u001b[0;34m\u001b[0m\u001b[0m\n\u001b[1;32m     31\u001b[0m \u001b[0;34m\u001b[0m\u001b[0m\n\u001b[0;32m---> 32\u001b[0;31m     \u001b[0mtriples_of_ids\u001b[0m \u001b[0;34m=\u001b[0m \u001b[0mnp\u001b[0m\u001b[0;34m.\u001b[0m\u001b[0marray\u001b[0m\u001b[0;34m(\u001b[0m\u001b[0mtriples_of_ids\u001b[0m\u001b[0;34m,\u001b[0m \u001b[0mdtype\u001b[0m\u001b[0;34m=\u001b[0m\u001b[0mnp\u001b[0m\u001b[0;34m.\u001b[0m\u001b[0mlong\u001b[0m\u001b[0;34m)\u001b[0m\u001b[0;34m\u001b[0m\u001b[0;34m\u001b[0m\u001b[0m\n\u001b[0m\u001b[1;32m     33\u001b[0m     \u001b[0;31m# Note: Unique changes the order\u001b[0m\u001b[0;34m\u001b[0m\u001b[0;34m\u001b[0m\u001b[0;34m\u001b[0m\u001b[0m\n\u001b[1;32m     34\u001b[0m     \u001b[0;32mreturn\u001b[0m \u001b[0mnp\u001b[0m\u001b[0;34m.\u001b[0m\u001b[0munique\u001b[0m\u001b[0;34m(\u001b[0m\u001b[0mar\u001b[0m\u001b[0;34m=\u001b[0m\u001b[0mtriples_of_ids\u001b[0m\u001b[0;34m,\u001b[0m \u001b[0maxis\u001b[0m\u001b[0;34m=\u001b[0m\u001b[0;36m0\u001b[0m\u001b[0;34m)\u001b[0m\u001b[0;34m,\u001b[0m \u001b[0mentity_label_to_id\u001b[0m\u001b[0;34m,\u001b[0m \u001b[0mrelation_label_to_id\u001b[0m\u001b[0;34m\u001b[0m\u001b[0;34m\u001b[0m\u001b[0m\n",
      "\u001b[0;31mTypeError\u001b[0m: int() argument must be a string, a bytes-like object or a number, not 'NoneType'"
     ]
    }
   ],
   "source": [
    "test_triples = model.map_triples_from_path('../../tests/resources/data/rdf.nt')\n",
    "# test_triples = model.map_triples_from_path('fb15k_test.tsv')"
   ]
  },
  {
   "cell_type": "markdown",
   "metadata": {},
   "source": [
    "Calculate results"
   ]
  },
  {
   "cell_type": "code",
   "execution_count": 133,
   "metadata": {},
   "outputs": [],
   "source": [
    "from pykeen.utilities.evaluation_utils.metrics_computations import compute_metric_results"
   ]
  },
  {
   "cell_type": "code",
   "execution_count": 134,
   "metadata": {},
   "outputs": [
    {
     "name": "stderr",
     "output_type": "stream",
     "text": [
      "⚽️ corrupting triples: 100%|██████████| 100/100 [00:05<00:00, 19.38it/s]\n",
      "INFO:pykeen.utilities.evaluation_utils.metrics_computations:Evaluation took 5.27 seconds\n"
     ]
    }
   ],
   "source": [
    "results = compute_metric_results(kg_embedding_model=model, mapped_train_triples=train_triples, \n",
    "                                mapped_test_triples=test_triples[:100], device = model.device, filter_neg_triples=False)"
   ]
  },
  {
   "cell_type": "code",
   "execution_count": 135,
   "metadata": {},
   "outputs": [
    {
     "data": {
      "text/plain": [
       "MetricResults(mean_rank=1.0, hits_at_k={1: 1.0, 3: 1.0, 5: 1.0, 10: 1.0})"
      ]
     },
     "execution_count": 135,
     "metadata": {},
     "output_type": "execute_result"
    }
   ],
   "source": [
    "results"
   ]
  },
  {
   "cell_type": "markdown",
   "metadata": {},
   "source": [
    "## Make subject and object predictions"
   ]
  },
  {
   "cell_type": "code",
   "execution_count": 136,
   "metadata": {},
   "outputs": [],
   "source": [
    "tes = triples_short[:, 1:2]"
   ]
  },
  {
   "cell_type": "code",
   "execution_count": 111,
   "metadata": {},
   "outputs": [],
   "source": [
    "indexing = triples_short[:, 1:2] == '/award/award_category/nominees./award/award_nomination/nominated_for'"
   ]
  },
  {
   "cell_type": "code",
   "execution_count": 123,
   "metadata": {},
   "outputs": [
    {
     "data": {
      "text/plain": [
       "array([['/m/02qyp19',\n",
       "        '/award/award_category/nominees./award/award_nomination/nominated_for',\n",
       "        '/m/02d413'],\n",
       "       ['/m/04ljl_l',\n",
       "        '/award/award_category/nominees./award/award_nomination/nominated_for',\n",
       "        '/m/03qcfvw'],\n",
       "       ['/m/02r0csl',\n",
       "        '/award/award_category/nominees./award/award_nomination/nominated_for',\n",
       "        '/m/0m313'],\n",
       "       ['/m/05ztjjw',\n",
       "        '/award/award_category/nominees./award/award_nomination/nominated_for',\n",
       "        '/m/01gc7'],\n",
       "       ['/m/05f4m9q',\n",
       "        '/award/award_category/nominees./award/award_nomination/nominated_for',\n",
       "        '/m/08lr6s'],\n",
       "       ['/m/03hkv_r',\n",
       "        '/award/award_category/nominees./award/award_nomination/nominated_for',\n",
       "        '/m/0ds3t5x'],\n",
       "       ['/m/05zkcn5',\n",
       "        '/award/award_category/nominees./award/award_nomination/nominated_for',\n",
       "        '/m/03mh94'],\n",
       "       ['/m/0gq_v',\n",
       "        '/award/award_category/nominees./award/award_nomination/nominated_for',\n",
       "        '/m/0ds11z'],\n",
       "       ['/m/02g3v6',\n",
       "        '/award/award_category/nominees./award/award_nomination/nominated_for',\n",
       "        '/m/0ds33'],\n",
       "       ['/m/0p9sw',\n",
       "        '/award/award_category/nominees./award/award_nomination/nominated_for',\n",
       "        '/m/01h7bb'],\n",
       "       ['/m/0gq6s3',\n",
       "        '/award/award_category/nominees./award/award_nomination/nominated_for',\n",
       "        '/m/04nl83'],\n",
       "       ['/m/05ztjjw',\n",
       "        '/award/award_category/nominees./award/award_nomination/nominated_for',\n",
       "        '/m/05p1tzf'],\n",
       "       ['/m/02p_7cr',\n",
       "        '/award/award_category/nominees./award/award_nomination/nominated_for',\n",
       "        '/m/02_1rq'],\n",
       "       ['/m/0f4x7',\n",
       "        '/award/award_category/nominees./award/award_nomination/nominated_for',\n",
       "        '/m/0n0bp'],\n",
       "       ['/m/02r22gf',\n",
       "        '/award/award_category/nominees./award/award_nomination/nominated_for',\n",
       "        '/m/01cssf'],\n",
       "       ['/m/02hsq3m',\n",
       "        '/award/award_category/nominees./award/award_nomination/nominated_for',\n",
       "        '/m/08720'],\n",
       "       ['/m/0bdw1g',\n",
       "        '/award/award_category/nominees./award/award_nomination/nominated_for',\n",
       "        '/m/039fgy'],\n",
       "       ['/m/05b1610',\n",
       "        '/award/award_category/nominees./award/award_nomination/nominated_for',\n",
       "        '/m/0dj0m5'],\n",
       "       ['/m/09qj50',\n",
       "        '/award/award_category/nominees./award/award_nomination/nominated_for',\n",
       "        '/m/0kfpm'],\n",
       "       ['/m/094qd5',\n",
       "        '/award/award_category/nominees./award/award_nomination/nominated_for',\n",
       "        '/m/05jzt3'],\n",
       "       ['/m/09qv3c',\n",
       "        '/award/award_category/nominees./award/award_nomination/nominated_for',\n",
       "        '/m/02nf2c'],\n",
       "       ['/m/040njc',\n",
       "        '/award/award_category/nominees./award/award_nomination/nominated_for',\n",
       "        '/m/017gl1'],\n",
       "       ['/m/099tbz',\n",
       "        '/award/award_category/nominees./award/award_nomination/nominated_for',\n",
       "        '/m/0ds35l9'],\n",
       "       ['/m/05zvq6g',\n",
       "        '/award/award_category/nominees./award/award_nomination/nominated_for',\n",
       "        '/m/01m13b'],\n",
       "       ['/m/05zr6wv',\n",
       "        '/award/award_category/nominees./award/award_nomination/nominated_for',\n",
       "        '/m/02qm_f'],\n",
       "       ['/m/02rdxsh',\n",
       "        '/award/award_category/nominees./award/award_nomination/nominated_for',\n",
       "        '/m/092vkg'],\n",
       "       ['/m/04dn09n',\n",
       "        '/award/award_category/nominees./award/award_nomination/nominated_for',\n",
       "        '/m/02d44q'],\n",
       "       ['/m/0l8z1',\n",
       "        '/award/award_category/nominees./award/award_nomination/nominated_for',\n",
       "        '/m/01c22t'],\n",
       "       ['/m/07bdd_',\n",
       "        '/award/award_category/nominees./award/award_nomination/nominated_for',\n",
       "        '/m/03rtz1'],\n",
       "       ['/m/04dn09n',\n",
       "        '/award/award_category/nominees./award/award_nomination/nominated_for',\n",
       "        '/m/04vr_f']], dtype='<U146')"
      ]
     },
     "execution_count": 123,
     "metadata": {},
     "output_type": "execute_result"
    }
   ],
   "source": [
    "triples_short[indexing.flatten()]"
   ]
  },
  {
   "cell_type": "code",
   "execution_count": 137,
   "metadata": {},
   "outputs": [],
   "source": [
    "uniq, count = np.unique(tes, return_counts=True)\n",
    "most_count = count.argsort()[::-1][0]"
   ]
  },
  {
   "cell_type": "code",
   "execution_count": 138,
   "metadata": {},
   "outputs": [
    {
     "data": {
      "text/plain": [
       "'/award/award_nominee/award_nominations./award/award_nomination/award_nominee'"
      ]
     },
     "execution_count": 138,
     "metadata": {},
     "output_type": "execute_result"
    }
   ],
   "source": [
    "uniq[most_count]"
   ]
  },
  {
   "cell_type": "code",
   "execution_count": 139,
   "metadata": {},
   "outputs": [],
   "source": [
    "subject = '/m/04ljl_l'\n",
    "relation = '/award/award_category/nominees./award/award_nomination/nominated_for'"
   ]
  },
  {
   "cell_type": "code",
   "execution_count": 154,
   "metadata": {},
   "outputs": [],
   "source": [
    "con1 = triples_short[:,0:1]== '/m/04ljl_l'\n",
    "con2 = triples_short[:,1:2]== '/award/award_category/nominees./award/award_nomination/nominated_for'\n",
    "con3 = triples_short[:,2:3]== '/m/03xb2w'\n",
    "con_total = con1 & con2 & con3"
   ]
  },
  {
   "cell_type": "code",
   "execution_count": 155,
   "metadata": {},
   "outputs": [
    {
     "data": {
      "text/plain": [
       "array([], shape=(0, 3), dtype='<U146')"
      ]
     },
     "execution_count": 155,
     "metadata": {},
     "output_type": "execute_result"
    }
   ],
   "source": [
    "triples_short[con_total.flatten()]"
   ]
  },
  {
   "cell_type": "code",
   "execution_count": 149,
   "metadata": {},
   "outputs": [
    {
     "data": {
      "text/plain": [
       "array([['/m/075wx7_', '0.9367189'],\n",
       "       ['/m/01msrb', '0.9047188'],\n",
       "       ['/m/03qcfvw', '0.8560706'],\n",
       "       ['/m/03xb2w', '0.041995708'],\n",
       "       ['/m/017gl1', '0.04062991'],\n",
       "       ['/m/0b_fw', '0.03682607'],\n",
       "       ['/m/0dsvzh', '0.029924264'],\n",
       "       ['/m/03lrht', '0.02428267'],\n",
       "       ['/m/05jzt3', '0.019856513'],\n",
       "       ['/m/0jqp3', '0.01937395']], dtype='<U32')"
      ]
     },
     "execution_count": 149,
     "metadata": {},
     "output_type": "execute_result"
    }
   ],
   "source": [
    "model.predict_objects(subject,relation)[:10]"
   ]
  },
  {
   "cell_type": "code",
   "execution_count": null,
   "metadata": {},
   "outputs": [],
   "source": []
  },
  {
   "cell_type": "code",
   "execution_count": 21,
   "metadata": {},
   "outputs": [],
   "source": [
    "subject = 'http://commons.dbpedia.org/resource/File:Paddestoel_003.jpg'\n",
    "relation = 'http://commons.dbpedia.org/property/description'"
   ]
  },
  {
   "cell_type": "code",
   "execution_count": 22,
   "metadata": {},
   "outputs": [
    {
     "data": {
      "text/plain": [
       "array([['Paddestoel . These are used in the Netherlands to show directions for cyclists.',\n",
       "        '0.99830544'],\n",
       "       ['2004-08-20', '0.00606696'],\n",
       "       ['Hunebed near Drouwen, the Netherlands. August 2004.',\n",
       "        '0.002805463'],\n",
       "       ['Hunebed near Borger, the largest hunebed in the Netherlands, August 2004.',\n",
       "        '0.0026126327'],\n",
       "       ['Hunebeds  near Drouwen, the Netherlands.', '0.0026097216'],\n",
       "       ['Hunebed D24 near Bronneger, August 2004.', '0.002481958'],\n",
       "       ['Events', '0.002360752'],\n",
       "       ['Entrance to the hunebed of Borger. August 2004.',\n",
       "        '0.0014043334'],\n",
       "       ['Kane quantum computer', '0.0013159805'],\n",
       "       ['The hunebed of Borger, the largest of the Netherlands. August 2004.',\n",
       "        '0.0012376056'],\n",
       "       ['Hunebed D25 near Bronneger, August 2004.', '0.0012304807'],\n",
       "       ['1801', '0.0008116153'],\n",
       "       [\"'De Slegte' bookshop in Groningen. De Slegte is the largest chain of second-hand and remainder books in the Netherlands. This is the back entrance .\",\n",
       "        '0.0006173465'],\n",
       "       ['Created by  Andre Engels.', '0.00059130136'],\n",
       "       ['http://dbpedia.org/resource/Gads_Hill_Place', '0.0005839588'],\n",
       "       ['Charles', '0.0005622113'],\n",
       "       ['Hunebed D21 near Bronneger, August 2004.', '0.00046020583'],\n",
       "       ['View under the hunebed of Borger. August 2004.',\n",
       "        '0.00038229683'],\n",
       "       ['Musée Sainte-Croix', '0.00030666965'],\n",
       "       ['Lokoj', '0.00029506232'],\n",
       "       ['http://dbpedia.org/resource/Tobias_Wolff', '0.00028805117'],\n",
       "       ['Lugares', '0.0002569283'],\n",
       "       ['Personnalités', '0.00019954982'],\n",
       "       ['http://commons.dbpedia.org/resource/File:Hunebed_008.jpg',\n",
       "        '0.00019023476'],\n",
       "       ['http://commons.dbpedia.org/resource/File:Hunebed_004.jpg',\n",
       "        '0.00018932347'],\n",
       "       ['o', '0.0001652571'],\n",
       "       ['http://commons.dbpedia.org/resource/File:Hunebed_013.jpg',\n",
       "        '0.000156127'],\n",
       "       ['http://commons.dbpedia.org/resource/Category:Events',\n",
       "        '0.00015485281'],\n",
       "       ['Jean Broc', '0.00015242741'],\n",
       "       ['This category is a copyright status category for media files on Commons with copyright expired or released into the public domain by the copyright holders. For media related to the topic Public domain see the topic category :Category:Public domain (copyright).',\n",
       "        '0.00014228553'],\n",
       "       ['http://commons.dbpedia.org/resource/File:Groningen_003.jpg',\n",
       "        '0.00013688108'],\n",
       "       ['http://commons.dbpedia.org/resource/File:Kane_QC.png',\n",
       "        '0.0001345865'],\n",
       "       ['Own picture from Andre Engels.', '0.000132045'],\n",
       "       ['http://dbpedia.org/resource/Guy_de_Maupassant', '0.00012938435'],\n",
       "       ['http://commons.dbpedia.org/resource/File:Hunebed_012.jpg',\n",
       "        '0.0001285584'],\n",
       "       ['http://commons.dbpedia.org/resource/Category:People',\n",
       "        '0.00012389047'],\n",
       "       ['http://dbpedia.org/resource/Henry_James', '0.00012320164'],\n",
       "       ['130', '0.000120712015'],\n",
       "       ['http://commons.dbpedia.org/resource/File:De_Slegte,_Groningen.jpg',\n",
       "        '0.00011544743'],\n",
       "       ['Ereignis, Veranstaltung.', '0.000112746944'],\n",
       "       ['http://commons.dbpedia.org/resource/File:Hunebed_001.jpg',\n",
       "        '0.000110396846'],\n",
       "       ['http://commons.dbpedia.org/resource/File:Hunebed_003.jpg',\n",
       "        '0.000108544'],\n",
       "       ['http://commons.dbpedia.org/resource/Category:Places',\n",
       "        '0.00010070728'],\n",
       "       ['http://commons.dbpedia.org/resource/User:Andre_Engels',\n",
       "        '9.907391e-05'],\n",
       "       ['http://commons.dbpedia.org/resource/Category:Public_domain',\n",
       "        '9.876668e-05'],\n",
       "       ['Q2717601', '9.75496e-05'],\n",
       "       ['1', '9.5721574e-05'],\n",
       "       ['http://dbpedia.org/resource/Charles_Dickens', '9.5341966e-05'],\n",
       "       ['2004', '8.998147e-05'],\n",
       "       ['Lieux', '8.947126e-05'],\n",
       "       ['http://dbpedia.org/resource/Passy', '8.071479e-05'],\n",
       "       ['http://commons.dbpedia.org/resource/File:Hunebed_006.jpg',\n",
       "        '7.7021585e-05'],\n",
       "       ['http://commons.dbpedia.org/resource/File:The_Death_of_Hyacinthos.gif',\n",
       "        '7.648684e-05'],\n",
       "       ['Orte, Plätze, Stätten', '7.541753e-05'],\n",
       "       ['Commons:Freedom of panorama#Netherlands', '7.539632e-05'],\n",
       "       ['http://commons.dbpedia.org/resource/File:Hunebed_002.jpg',\n",
       "        '7.4643096e-05'],\n",
       "       ['100.0', '7.34493e-05'],\n",
       "       ['Dominio público: Es esta una categoría de estado de derecho del autor para medios cuyos derechos del autor han expirado o aquellos que han sido hechos disponibles como dominio público por el autor. Medios relacionados con el tema Dominio público se encuentran en la categoría :Category:Public domain (copyright).',\n",
       "        '6.7186935e-05'],\n",
       "       ['http://commons.dbpedia.org/resource/File:Buswachten.jpg',\n",
       "        '6.4902844e-05'],\n",
       "       ['http://exitinterview.biz/rarities/paidika/n12/pdk12ill.htm',\n",
       "        '6.4460466e-05'],\n",
       "       ['http://commons.dbpedia.org/resource/File:Hunebed_014.jpg',\n",
       "        '6.0083163e-05'],\n",
       "       ['Дела во јавна сопственост', '5.534006e-05'],\n",
       "       ['http://commons.dbpedia.org/resource/File:StationAssen2.jpg',\n",
       "        '5.3963362e-05'],\n",
       "       ['http://commons.dbpedia.org/resource/File:Hunebed_005.jpg',\n",
       "        '5.1203133e-05'],\n",
       "       ['http://commons.dbpedia.org/resource/File:Hunebed_015.jpg',\n",
       "        '4.9262377e-05'],\n",
       "       ['http://commons.dbpedia.org/resource/File:Quail2.png',\n",
       "        '4.74786e-05'],\n",
       "       ['http://commons.dbpedia.org/resource/Template:Cc-by-sa-1.0',\n",
       "        '4.5532488e-05'],\n",
       "       ['http://commons.dbpedia.org/resource/File:Hunebed_011.jpg',\n",
       "        '4.539276e-05'],\n",
       "       ['Guy De', '4.5219032e-05'],\n",
       "       ['Gemeinfrei: Diese Kategorie ist eine Urheberrechtsstatus-Kategorie für Medien auf Commons, deren Urheberrecht abgelaufen ist, oder deren Urheber diese gemeinfrei zur Verfügung stellt. Medien zum Thema Gemeinfreiheit befinden sich in der Kategorie :Category:Public domain (copyright).',\n",
       "        '4.1915497e-05'],\n",
       "       ['http://commons.dbpedia.org/resource/File:Hunebed_010.jpg',\n",
       "        '4.1466552e-05'],\n",
       "       ['http://commons.dbpedia.org/resource/File:Paddestoel_002.jpg',\n",
       "        '3.994756e-05'],\n",
       "       ['http://commons.dbpedia.org/resource/File:Groninger-museum.jpg',\n",
       "        '3.872136e-05'],\n",
       "       ['http://commons.dbpedia.org/resource/File:Lijn10.jpg',\n",
       "        '3.804291e-05'],\n",
       "       ['http://commons.dbpedia.org/resource/File:Bustaxi.jpg',\n",
       "        '3.2164964e-05'],\n",
       "       ['http://commons.dbpedia.org/resource/File:BordUtrecht.jpg',\n",
       "        '3.179734e-05'],\n",
       "       ['Cc-by-1.0', '2.9280583e-05'],\n",
       "       ['http://commons.dbpedia.org/resource/File:StationAssen3.jpg',\n",
       "        '2.4686577e-05'],\n",
       "       ['Own picture from Andre Engels', '2.3865812e-05'],\n",
       "       [\"File:Two Gambel's Quail  - Paradise Valley, Arizona, ca 2004.png\",\n",
       "        '2.271763e-05'],\n",
       "       ['http://commons.dbpedia.org/resource/Template:Cc-by-1.0',\n",
       "        '2.1503825e-05'],\n",
       "       ['Diagram drawn by Tim Starling', '2.0115742e-05'],\n",
       "       ['http://commons.dbpedia.org/resource/File:Lijn51.jpg',\n",
       "        '1.7315371e-05'],\n",
       "       ['Publika havaĵo', '1.4443588e-05'],\n",
       "       ['Platser', '1.3768265e-05'],\n",
       "       ['Événements.', '6.560903e-06'],\n",
       "       ['2004-08-26', '3.222913e-06'],\n",
       "       ['2004-07-22', '1.2824778e-06']], dtype='<U312')"
      ]
     },
     "execution_count": 22,
     "metadata": {},
     "output_type": "execute_result"
    }
   ],
   "source": [
    "model.predict_objects(subject,relation)"
   ]
  },
  {
   "cell_type": "code",
   "execution_count": 23,
   "metadata": {},
   "outputs": [],
   "source": [
    "obj = 'Paddestoel . These are used in the Netherlands to show directions for cyclists.'\n",
    "relation = 'http://commons.dbpedia.org/property/description'"
   ]
  },
  {
   "cell_type": "code",
   "execution_count": 24,
   "metadata": {},
   "outputs": [
    {
     "data": {
      "text/plain": [
       "array([['http://commons.dbpedia.org/resource/File:Paddestoel_002.jpg',\n",
       "        '0.99865675'],\n",
       "       ['http://commons.dbpedia.org/resource/File:Paddestoel_003.jpg',\n",
       "        '0.99830544'],\n",
       "       ['Entrance to the hunebed of Borger. August 2004.', '0.10651482'],\n",
       "       ['Diagram drawn by Tim Starling', '0.091593064'],\n",
       "       ['The hunebed of Borger, the largest of the Netherlands. August 2004.',\n",
       "        '0.09136357'],\n",
       "       ['100.0', '0.09073976'],\n",
       "       ['http://commons.dbpedia.org/resource/File:Bustaxi.jpg',\n",
       "        '0.041434254'],\n",
       "       ['Own picture from Andre Engels', '0.022528224'],\n",
       "       ['Lokoj', '0.017725676'],\n",
       "       [\"'De Slegte' bookshop in Groningen. De Slegte is the largest chain of second-hand and remainder books in the Netherlands. This is the back entrance .\",\n",
       "        '0.013548709'],\n",
       "       ['http://commons.dbpedia.org/resource/File:Lijn51.jpg',\n",
       "        '0.011775235'],\n",
       "       ['Kane quantum computer', '0.010166289'],\n",
       "       ['http://commons.dbpedia.org/resource/Category:Places',\n",
       "        '0.0073957294'],\n",
       "       ['Created by  Andre Engels.', '0.0063008433'],\n",
       "       ['o', '0.00604356'],\n",
       "       ['Guy De', '0.0054200245'],\n",
       "       ['http://commons.dbpedia.org/resource/Template:Cc-by-sa-1.0',\n",
       "        '0.0045914245'],\n",
       "       ['http://dbpedia.org/resource/Charles_Dickens', '0.0043824324'],\n",
       "       ['Commons:Freedom of panorama#Netherlands', '0.004314698'],\n",
       "       ['http://commons.dbpedia.org/resource/File:Lijn10.jpg',\n",
       "        '0.0040173233'],\n",
       "       ['Hunebed D24 near Bronneger, August 2004.', '0.0035389403'],\n",
       "       ['Jean Broc', '0.0033141705'],\n",
       "       ['Hunebed near Borger, the largest hunebed in the Netherlands, August 2004.',\n",
       "        '0.0031970583'],\n",
       "       ['Charles', '0.0031309656'],\n",
       "       ['http://commons.dbpedia.org/resource/Category:People',\n",
       "        '0.002943602'],\n",
       "       ['1801', '0.0028973536'],\n",
       "       ['http://commons.dbpedia.org/resource/File:StationAssen2.jpg',\n",
       "        '0.002580434'],\n",
       "       ['Lieux', '0.002402844'],\n",
       "       ['http://commons.dbpedia.org/resource/Template:Cc-by-1.0',\n",
       "        '0.0023437086'],\n",
       "       ['Hunebed D25 near Bronneger, August 2004.', '0.0022438222'],\n",
       "       ['This category is a copyright status category for media files on Commons with copyright expired or released into the public domain by the copyright holders. For media related to the topic Public domain see the topic category :Category:Public domain (copyright).',\n",
       "        '0.002193834'],\n",
       "       ['http://commons.dbpedia.org/resource/File:StationAssen3.jpg',\n",
       "        '0.0020191541'],\n",
       "       ['http://commons.dbpedia.org/resource/File:Buswachten.jpg',\n",
       "        '0.0018547783'],\n",
       "       ['Events', '0.0018348745'],\n",
       "       ['130', '0.0018254165'],\n",
       "       ['Cc-by-1.0', '0.0017584823'],\n",
       "       ['1', '0.0016986915'],\n",
       "       ['http://commons.dbpedia.org/resource/File:Hunebed_015.jpg',\n",
       "        '0.0016352643'],\n",
       "       ['http://commons.dbpedia.org/resource/File:Hunebed_003.jpg',\n",
       "        '0.0014199209'],\n",
       "       ['http://commons.dbpedia.org/resource/File:BordUtrecht.jpg',\n",
       "        '0.0014005182'],\n",
       "       ['http://dbpedia.org/resource/Henry_James', '0.0013750788'],\n",
       "       ['http://commons.dbpedia.org/resource/File:De_Slegte,_Groningen.jpg',\n",
       "        '0.0013705335'],\n",
       "       ['http://commons.dbpedia.org/resource/File:Hunebed_006.jpg',\n",
       "        '0.0012283009'],\n",
       "       ['http://commons.dbpedia.org/resource/File:Groningen_003.jpg',\n",
       "        '0.001184011'],\n",
       "       ['http://commons.dbpedia.org/resource/File:Hunebed_013.jpg',\n",
       "        '0.0011653152'],\n",
       "       ['Dominio público: Es esta una categoría de estado de derecho del autor para medios cuyos derechos del autor han expirado o aquellos que han sido hechos disponibles como dominio público por el autor. Medios relacionados con el tema Dominio público se encuentran en la categoría :Category:Public domain (copyright).',\n",
       "        '0.0011647164'],\n",
       "       ['Ereignis, Veranstaltung.', '0.0011633553'],\n",
       "       ['Lugares', '0.0011578359'],\n",
       "       ['http://commons.dbpedia.org/resource/File:Hunebed_010.jpg',\n",
       "        '0.001115772'],\n",
       "       ['Orte, Plätze, Stätten', '0.0010992169'],\n",
       "       ['2004', '0.0010927077'],\n",
       "       ['View under the hunebed of Borger. August 2004.', '0.001079754'],\n",
       "       ['http://commons.dbpedia.org/resource/Category:Events',\n",
       "        '0.0010431866'],\n",
       "       ['http://commons.dbpedia.org/resource/File:Hunebed_014.jpg',\n",
       "        '0.0009893487'],\n",
       "       ['http://commons.dbpedia.org/resource/File:Hunebed_012.jpg',\n",
       "        '0.0009881817'],\n",
       "       ['http://dbpedia.org/resource/Guy_de_Maupassant', '0.0009183528'],\n",
       "       ['http://commons.dbpedia.org/resource/File:Hunebed_001.jpg',\n",
       "        '0.00090780173'],\n",
       "       [\"File:Two Gambel's Quail  - Paradise Valley, Arizona, ca 2004.png\",\n",
       "        '0.00085425726'],\n",
       "       ['http://commons.dbpedia.org/resource/File:Groninger-museum.jpg',\n",
       "        '0.0008027772'],\n",
       "       ['http://commons.dbpedia.org/resource/File:Hunebed_002.jpg',\n",
       "        '0.0007880834'],\n",
       "       ['http://dbpedia.org/resource/Tobias_Wolff', '0.00075548224'],\n",
       "       ['http://commons.dbpedia.org/resource/File:Hunebed_008.jpg',\n",
       "        '0.0007054352'],\n",
       "       ['http://commons.dbpedia.org/resource/File:Hunebed_005.jpg',\n",
       "        '0.00065927237'],\n",
       "       ['http://commons.dbpedia.org/resource/File:Hunebed_004.jpg',\n",
       "        '0.00063847634'],\n",
       "       ['http://commons.dbpedia.org/resource/File:Kane_QC.png',\n",
       "        '0.0006072098'],\n",
       "       ['http://exitinterview.biz/rarities/paidika/n12/pdk12ill.htm',\n",
       "        '0.00050289294'],\n",
       "       ['Hunebeds  near Drouwen, the Netherlands.', '0.00049720187'],\n",
       "       ['Gemeinfrei: Diese Kategorie ist eine Urheberrechtsstatus-Kategorie für Medien auf Commons, deren Urheberrecht abgelaufen ist, oder deren Urheber diese gemeinfrei zur Verfügung stellt. Medien zum Thema Gemeinfreiheit befinden sich in der Kategorie :Category:Public domain (copyright).',\n",
       "        '0.00044445068'],\n",
       "       ['http://dbpedia.org/resource/Passy', '0.00036808453'],\n",
       "       ['Дела во јавна сопственост', '0.00035888114'],\n",
       "       ['http://commons.dbpedia.org/resource/File:Hunebed_011.jpg',\n",
       "        '0.00028974647'],\n",
       "       ['2004-08-20', '0.00025009518'],\n",
       "       ['http://commons.dbpedia.org/resource/File:The_Death_of_Hyacinthos.gif',\n",
       "        '0.00021867634'],\n",
       "       ['Musée Sainte-Croix', '0.00016595284'],\n",
       "       ['2004-07-22', '0.00016019196'],\n",
       "       ['Publika havaĵo', '0.00013475805'],\n",
       "       ['http://commons.dbpedia.org/resource/Category:Public_domain',\n",
       "        '0.00010105744'],\n",
       "       ['Personnalités', '7.261214e-05'],\n",
       "       ['http://commons.dbpedia.org/resource/File:Quail2.png',\n",
       "        '6.390722e-05'],\n",
       "       ['Événements.', '3.8274236e-05'],\n",
       "       ['Hunebed near Drouwen, the Netherlands. August 2004.',\n",
       "        '3.1400057e-05'],\n",
       "       ['http://dbpedia.org/resource/Gads_Hill_Place', '2.5512663e-05'],\n",
       "       ['Hunebed D21 near Bronneger, August 2004.', '2.268918e-05'],\n",
       "       ['Q2717601', '2.2037624e-05'],\n",
       "       ['Platser', '1.4892963e-05'],\n",
       "       ['2004-08-26', '1.0145412e-05'],\n",
       "       ['Own picture from Andre Engels.', '8.688434e-06'],\n",
       "       ['http://commons.dbpedia.org/resource/User:Andre_Engels',\n",
       "        '3.2927645e-07']], dtype='<U312')"
      ]
     },
     "execution_count": 24,
     "metadata": {},
     "output_type": "execute_result"
    }
   ],
   "source": [
    "model.predict_subjects(obj, relation)"
   ]
  },
  {
   "cell_type": "code",
   "execution_count": null,
   "metadata": {},
   "outputs": [],
   "source": []
  }
 ],
 "metadata": {
  "kernelspec": {
   "display_name": "Python 3",
   "language": "python",
   "name": "python3"
  },
  "language_info": {
   "codemirror_mode": {
    "name": "ipython",
    "version": 3
   },
   "file_extension": ".py",
   "mimetype": "text/x-python",
   "name": "python",
   "nbconvert_exporter": "python",
   "pygments_lexer": "ipython3",
   "version": "3.6.8"
  }
 },
 "nbformat": 4,
 "nbformat_minor": 2
}
